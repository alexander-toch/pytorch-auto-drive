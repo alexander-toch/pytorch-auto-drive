{
 "cells": [
  {
   "cell_type": "markdown",
   "metadata": {},
   "source": [
    "# Dirty Road PAtch (DRP) attack on MetaDrive with CNN-based lane detection\n",
    "\n",
    "References:\n",
    "- https://github.com/ASGuard-UCI/DRP-attack"
   ]
  },
  {
   "cell_type": "code",
   "execution_count": 1,
   "metadata": {},
   "outputs": [],
   "source": [
    "import sys\n",
    "import os\n",
    "\n",
    "sys.path.append(os.path.dirname(os.getcwd()))\n",
    "\n",
    "import cv2\n",
    "import numpy as np"
   ]
  },
  {
   "cell_type": "code",
   "execution_count": 18,
   "metadata": {},
   "outputs": [
    {
     "name": "stdout",
     "output_type": "stream",
     "text": [
      "Loaded torchvision ImageNet pre-trained weights V1.\n"
     ]
    }
   ],
   "source": [
    "from pytorch_auto_drive.utils.common import load_checkpoint\n",
    "from pytorch_auto_drive.utils.args import read_config\n",
    "from pytorch_auto_drive.utils.models import MODELS\n",
    "import torch\n",
    "\n",
    "\n",
    "CONFIG=os.path.dirname(os.getcwd()) + '/pytorch_auto_drive/configs/lane_detection/resa/resnet50_culane.py'\n",
    "cfg = read_config(CONFIG)\n",
    "model = MODELS.from_dict(cfg['model'])\n",
    "\n",
    "load_checkpoint(net=model, optimizer=None, lr_scheduler=None, filename=os.path.dirname(os.getcwd()) + '/../../resnet50_resa_culane_20211016.pt', strict=False)\n"
   ]
  },
  {
   "cell_type": "code",
   "execution_count": 11,
   "metadata": {},
   "outputs": [],
   "source": [
    "from art.attacks.evasion import RobustDPatch\n",
    "\n",
    "detector = model # TODO: implement a detector\n",
    "\n",
    "attack = RobustDPatch(\n",
    "    detector,\n",
    "    patch_shape=(3, 200, 200),\n",
    "    patch_location=(50, 50),\n",
    "    crop_range=[0,0],\n",
    "    brightness_range=[1.0, 1.0],\n",
    "    rotation_weights=[1, 0, 0, 0],\n",
    "    sample_size=1,\n",
    "    learning_rate=1.99,\n",
    "    max_iter=1,\n",
    "    batch_size=1,\n",
    "    verbose=False,\n",
    "    targeted=True\n",
    ")"
   ]
  }
 ],
 "metadata": {
  "kernelspec": {
   "display_name": "ld3.9",
   "language": "python",
   "name": "python3"
  },
  "language_info": {
   "codemirror_mode": {
    "name": "ipython",
    "version": 3
   },
   "file_extension": ".py",
   "mimetype": "text/x-python",
   "name": "python",
   "nbconvert_exporter": "python",
   "pygments_lexer": "ipython3",
   "version": "3.9.18"
  }
 },
 "nbformat": 4,
 "nbformat_minor": 2
}
